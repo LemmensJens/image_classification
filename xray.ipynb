{
  "nbformat": 4,
  "nbformat_minor": 0,
  "metadata": {
    "kernelspec": {
      "name": "python3",
      "display_name": "Python 3"
    },
    "language_info": {
      "codemirror_mode": {
        "name": "ipython",
        "version": 3
      },
      "file_extension": ".py",
      "mimetype": "text/x-python",
      "name": "python",
      "nbconvert_exporter": "python",
      "pygments_lexer": "ipython3",
      "version": "3.7.3"
    },
    "colab": {
      "name": "xray.ipynb",
      "provenance": [],
      "collapsed_sections": [],
      "include_colab_link": true
    },
    "accelerator": "GPU"
  },
  "cells": [
    {
      "cell_type": "markdown",
      "metadata": {
        "id": "view-in-github",
        "colab_type": "text"
      },
      "source": [
        "<a href=\"https://colab.research.google.com/github/LemmensJens/image_classification/blob/master/xray.ipynb\" target=\"_parent\"><img src=\"https://colab.research.google.com/assets/colab-badge.svg\" alt=\"Open In Colab\"/></a>"
      ]
    },
    {
      "cell_type": "markdown",
      "metadata": {
        "id": "coDfnuIU-BN2",
        "colab_type": "text"
      },
      "source": [
        "## Detecting pneumonia in chest x-rays"
      ]
    },
    {
      "cell_type": "code",
      "metadata": {
        "id": "8rUnZHn1EPgg",
        "colab_type": "code",
        "outputId": "60e6f017-d181-40ce-89b8-b82b6f506db8",
        "colab": {
          "base_uri": "https://localhost:8080/",
          "height": 1000
        }
      },
      "source": [
        "pip install --upgrade tensorflow"
      ],
      "execution_count": 0,
      "outputs": [
        {
          "output_type": "stream",
          "text": [
            "Collecting tensorflow\n",
            "\u001b[?25l  Downloading https://files.pythonhosted.org/packages/46/0f/7bd55361168bb32796b360ad15a25de6966c9c1beb58a8e30c01c8279862/tensorflow-2.0.0-cp36-cp36m-manylinux2010_x86_64.whl (86.3MB)\n",
            "\u001b[K     |████████████████████████████████| 86.3MB 112kB/s \n",
            "\u001b[?25hCollecting tensorflow-estimator<2.1.0,>=2.0.0\n",
            "\u001b[?25l  Downloading https://files.pythonhosted.org/packages/fc/08/8b927337b7019c374719145d1dceba21a8bb909b93b1ad6f8fb7d22c1ca1/tensorflow_estimator-2.0.1-py2.py3-none-any.whl (449kB)\n",
            "\u001b[K     |████████████████████████████████| 450kB 37.5MB/s \n",
            "\u001b[?25hRequirement already satisfied, skipping upgrade: keras-applications>=1.0.8 in /usr/local/lib/python3.6/dist-packages (from tensorflow) (1.0.8)\n",
            "Requirement already satisfied, skipping upgrade: termcolor>=1.1.0 in /usr/local/lib/python3.6/dist-packages (from tensorflow) (1.1.0)\n",
            "Requirement already satisfied, skipping upgrade: protobuf>=3.6.1 in /usr/local/lib/python3.6/dist-packages (from tensorflow) (3.10.0)\n",
            "Requirement already satisfied, skipping upgrade: numpy<2.0,>=1.16.0 in /usr/local/lib/python3.6/dist-packages (from tensorflow) (1.17.4)\n",
            "Requirement already satisfied, skipping upgrade: gast==0.2.2 in /usr/local/lib/python3.6/dist-packages (from tensorflow) (0.2.2)\n",
            "Requirement already satisfied, skipping upgrade: google-pasta>=0.1.6 in /usr/local/lib/python3.6/dist-packages (from tensorflow) (0.1.8)\n",
            "Requirement already satisfied, skipping upgrade: keras-preprocessing>=1.0.5 in /usr/local/lib/python3.6/dist-packages (from tensorflow) (1.1.0)\n",
            "Collecting tensorboard<2.1.0,>=2.0.0\n",
            "\u001b[?25l  Downloading https://files.pythonhosted.org/packages/76/54/99b9d5d52d5cb732f099baaaf7740403e83fe6b0cedde940fabd2b13d75a/tensorboard-2.0.2-py3-none-any.whl (3.8MB)\n",
            "\u001b[K     |████████████████████████████████| 3.8MB 20.3MB/s \n",
            "\u001b[?25hRequirement already satisfied, skipping upgrade: grpcio>=1.8.6 in /usr/local/lib/python3.6/dist-packages (from tensorflow) (1.15.0)\n",
            "Requirement already satisfied, skipping upgrade: absl-py>=0.7.0 in /usr/local/lib/python3.6/dist-packages (from tensorflow) (0.8.1)\n",
            "Requirement already satisfied, skipping upgrade: astor>=0.6.0 in /usr/local/lib/python3.6/dist-packages (from tensorflow) (0.8.0)\n",
            "Requirement already satisfied, skipping upgrade: wheel>=0.26 in /usr/local/lib/python3.6/dist-packages (from tensorflow) (0.33.6)\n",
            "Requirement already satisfied, skipping upgrade: wrapt>=1.11.1 in /usr/local/lib/python3.6/dist-packages (from tensorflow) (1.11.2)\n",
            "Requirement already satisfied, skipping upgrade: six>=1.10.0 in /usr/local/lib/python3.6/dist-packages (from tensorflow) (1.12.0)\n",
            "Requirement already satisfied, skipping upgrade: opt-einsum>=2.3.2 in /usr/local/lib/python3.6/dist-packages (from tensorflow) (3.1.0)\n",
            "Requirement already satisfied, skipping upgrade: h5py in /usr/local/lib/python3.6/dist-packages (from keras-applications>=1.0.8->tensorflow) (2.8.0)\n",
            "Requirement already satisfied, skipping upgrade: setuptools in /usr/local/lib/python3.6/dist-packages (from protobuf>=3.6.1->tensorflow) (42.0.1)\n",
            "Requirement already satisfied, skipping upgrade: requests<3,>=2.21.0 in /usr/local/lib/python3.6/dist-packages (from tensorboard<2.1.0,>=2.0.0->tensorflow) (2.21.0)\n",
            "Requirement already satisfied, skipping upgrade: markdown>=2.6.8 in /usr/local/lib/python3.6/dist-packages (from tensorboard<2.1.0,>=2.0.0->tensorflow) (3.1.1)\n",
            "Requirement already satisfied, skipping upgrade: werkzeug>=0.11.15 in /usr/local/lib/python3.6/dist-packages (from tensorboard<2.1.0,>=2.0.0->tensorflow) (0.16.0)\n",
            "Collecting google-auth<2,>=1.6.3\n",
            "\u001b[?25l  Downloading https://files.pythonhosted.org/packages/ec/11/1d90cbfa72a084b08498e8cea1fee199bc965cdac391d241f5ae6257073e/google_auth-1.7.2-py2.py3-none-any.whl (74kB)\n",
            "\u001b[K     |████████████████████████████████| 81kB 8.4MB/s \n",
            "\u001b[?25hRequirement already satisfied, skipping upgrade: google-auth-oauthlib<0.5,>=0.4.1 in /usr/local/lib/python3.6/dist-packages (from tensorboard<2.1.0,>=2.0.0->tensorflow) (0.4.1)\n",
            "Requirement already satisfied, skipping upgrade: idna<2.9,>=2.5 in /usr/local/lib/python3.6/dist-packages (from requests<3,>=2.21.0->tensorboard<2.1.0,>=2.0.0->tensorflow) (2.8)\n",
            "Requirement already satisfied, skipping upgrade: urllib3<1.25,>=1.21.1 in /usr/local/lib/python3.6/dist-packages (from requests<3,>=2.21.0->tensorboard<2.1.0,>=2.0.0->tensorflow) (1.24.3)\n",
            "Requirement already satisfied, skipping upgrade: certifi>=2017.4.17 in /usr/local/lib/python3.6/dist-packages (from requests<3,>=2.21.0->tensorboard<2.1.0,>=2.0.0->tensorflow) (2019.11.28)\n",
            "Requirement already satisfied, skipping upgrade: chardet<3.1.0,>=3.0.2 in /usr/local/lib/python3.6/dist-packages (from requests<3,>=2.21.0->tensorboard<2.1.0,>=2.0.0->tensorflow) (3.0.4)\n",
            "Requirement already satisfied, skipping upgrade: cachetools<3.2,>=2.0.0 in /usr/local/lib/python3.6/dist-packages (from google-auth<2,>=1.6.3->tensorboard<2.1.0,>=2.0.0->tensorflow) (3.1.1)\n",
            "Requirement already satisfied, skipping upgrade: rsa<4.1,>=3.1.4 in /usr/local/lib/python3.6/dist-packages (from google-auth<2,>=1.6.3->tensorboard<2.1.0,>=2.0.0->tensorflow) (4.0)\n",
            "Requirement already satisfied, skipping upgrade: pyasn1-modules>=0.2.1 in /usr/local/lib/python3.6/dist-packages (from google-auth<2,>=1.6.3->tensorboard<2.1.0,>=2.0.0->tensorflow) (0.2.7)\n",
            "Requirement already satisfied, skipping upgrade: requests-oauthlib>=0.7.0 in /usr/local/lib/python3.6/dist-packages (from google-auth-oauthlib<0.5,>=0.4.1->tensorboard<2.1.0,>=2.0.0->tensorflow) (1.3.0)\n",
            "Requirement already satisfied, skipping upgrade: pyasn1>=0.1.3 in /usr/local/lib/python3.6/dist-packages (from rsa<4.1,>=3.1.4->google-auth<2,>=1.6.3->tensorboard<2.1.0,>=2.0.0->tensorflow) (0.4.8)\n",
            "Requirement already satisfied, skipping upgrade: oauthlib>=3.0.0 in /usr/local/lib/python3.6/dist-packages (from requests-oauthlib>=0.7.0->google-auth-oauthlib<0.5,>=0.4.1->tensorboard<2.1.0,>=2.0.0->tensorflow) (3.1.0)\n",
            "\u001b[31mERROR: tensorboard 2.0.2 has requirement grpcio>=1.24.3, but you'll have grpcio 1.15.0 which is incompatible.\u001b[0m\n",
            "\u001b[31mERROR: google-colab 1.0.0 has requirement google-auth~=1.4.0, but you'll have google-auth 1.7.2 which is incompatible.\u001b[0m\n",
            "Installing collected packages: tensorflow-estimator, google-auth, tensorboard, tensorflow\n",
            "  Found existing installation: tensorflow-estimator 1.15.1\n",
            "    Uninstalling tensorflow-estimator-1.15.1:\n",
            "      Successfully uninstalled tensorflow-estimator-1.15.1\n",
            "  Found existing installation: google-auth 1.4.2\n",
            "    Uninstalling google-auth-1.4.2:\n",
            "      Successfully uninstalled google-auth-1.4.2\n",
            "  Found existing installation: tensorboard 1.15.0\n",
            "    Uninstalling tensorboard-1.15.0:\n",
            "      Successfully uninstalled tensorboard-1.15.0\n",
            "  Found existing installation: tensorflow 1.15.0\n",
            "    Uninstalling tensorflow-1.15.0:\n",
            "      Successfully uninstalled tensorflow-1.15.0\n",
            "Successfully installed google-auth-1.7.2 tensorboard-2.0.2 tensorflow-2.0.0 tensorflow-estimator-2.0.1\n"
          ],
          "name": "stdout"
        },
        {
          "output_type": "display_data",
          "data": {
            "application/vnd.colab-display-data+json": {
              "pip_warning": {
                "packages": [
                  "google"
                ]
              }
            }
          },
          "metadata": {
            "tags": []
          }
        }
      ]
    },
    {
      "cell_type": "code",
      "metadata": {
        "id": "8Vt9yhfZ-BN6",
        "colab_type": "code",
        "outputId": "63f67bcc-763b-41c7-f99a-a4df23cdbce4",
        "colab": {
          "base_uri": "https://localhost:8080/",
          "height": 35
        }
      },
      "source": [
        "#import required libraries\n",
        "import os, random, tensorflow, shutil\n",
        "import matplotlib.pyplot as plt\n",
        "from google.colab import drive\n",
        "from tensorflow.keras.models import Sequential\n",
        "from tensorflow.keras.layers import Embedding, Conv2D, MaxPooling2D, Flatten, Dense, Dropout, BatchNormalization\n",
        "from tensorflow.keras.optimizers import Adam\n",
        "from tensorflow.keras.preprocessing.image import ImageDataGenerator\n",
        "from tensorflow.keras.callbacks import LearningRateScheduler\n",
        "print(tensorflow.__version__)"
      ],
      "execution_count": 0,
      "outputs": [
        {
          "output_type": "stream",
          "text": [
            "2.0.0\n"
          ],
          "name": "stdout"
        }
      ]
    },
    {
      "cell_type": "code",
      "metadata": {
        "id": "xr95_2cGvdhV",
        "colab_type": "code",
        "outputId": "6b4abb17-fe0c-4ab7-d23d-bb02c332f0d1",
        "colab": {
          "base_uri": "https://localhost:8080/",
          "height": 127
        }
      },
      "source": [
        "from google.colab import drive\n",
        "drive.mount('/content/drive')"
      ],
      "execution_count": 0,
      "outputs": [
        {
          "output_type": "stream",
          "text": [
            "Go to this URL in a browser: https://accounts.google.com/o/oauth2/auth?client_id=947318989803-6bn6qk8qdgf4n4g3pfee6491hc0brc4i.apps.googleusercontent.com&redirect_uri=urn%3aietf%3awg%3aoauth%3a2.0%3aoob&response_type=code&scope=email%20https%3a%2f%2fwww.googleapis.com%2fauth%2fdocs.test%20https%3a%2f%2fwww.googleapis.com%2fauth%2fdrive%20https%3a%2f%2fwww.googleapis.com%2fauth%2fdrive.photos.readonly%20https%3a%2f%2fwww.googleapis.com%2fauth%2fpeopleapi.readonly\n",
            "\n",
            "Enter your authorization code:\n",
            "··········\n",
            "Mounted at /content/drive\n"
          ],
          "name": "stdout"
        }
      ]
    },
    {
      "cell_type": "code",
      "metadata": {
        "id": "rvBGPHvD-BOC",
        "colab_type": "code",
        "outputId": "b7184dc3-956b-4ab3-bed2-88071c0a6aa4",
        "colab": {
          "base_uri": "https://localhost:8080/",
          "height": 53
        }
      },
      "source": [
        "#inspect train/test proportions\n",
        "train_pneumonia_dir = '/content/drive/My Drive/Colab Notebooks/chest_xray/train/PNEUMONIA/'\n",
        "train_normal_dir = '/content/drive/My Drive/Colab Notebooks/chest_xray/train/NORMAL/'\n",
        "\n",
        "train_normal = os.listdir(train_normal_dir)\n",
        "train_pneumonia = os.listdir(train_pneumonia_dir)\n",
        "\n",
        "print(f\"Normal: {len(train_normal)}\")\n",
        "print(f\"Pneumonia: {len(train_pneumonia)}\")"
      ],
      "execution_count": 0,
      "outputs": [
        {
          "output_type": "stream",
          "text": [
            "Normal: 2684\n",
            "Pneumonia: 2684\n"
          ],
          "name": "stdout"
        }
      ]
    },
    {
      "cell_type": "code",
      "metadata": {
        "id": "BMD2eGBVIU8T",
        "colab_type": "code",
        "outputId": "d6fe6a5a-d7eb-477c-d12a-0052e72ec7fc",
        "colab": {
          "base_uri": "https://localhost:8080/",
          "height": 35
        }
      },
      "source": [
        "#apply oversampling of underrepresented data to balance data\n",
        "if len(train_normal) != len(train_pneumonia):\n",
        "  for f in train_normal:\n",
        "    shutil.copy(train_normal_dir+f, train_normal_dir+'copy_'+f)\n",
        "\n",
        "  train_normal = os.listdir(train_normal_dir)\n",
        "\n",
        "  print(f\"Normal: {len(train_normal)}\")\n",
        "  print(f\"Pneumonia: {len(train_pneumonia)}\")\n",
        "\n",
        "else:\n",
        "  print(\"Data is balanced!\")"
      ],
      "execution_count": 0,
      "outputs": [
        {
          "output_type": "stream",
          "text": [
            "Data is balanced!\n"
          ],
          "name": "stdout"
        }
      ]
    },
    {
      "cell_type": "code",
      "metadata": {
        "id": "r6fAe96y-BOH",
        "colab_type": "code",
        "outputId": "78bc15b5-a212-41f9-974b-fc78ad3504da",
        "colab": {
          "base_uri": "https://localhost:8080/",
          "height": 35
        }
      },
      "source": [
        "#apply undersampling of overrepresented data to balance data\n",
        "if len(train_normal) != len(train_pneumonia):\n",
        "    \n",
        "    train_pneumonia = random.sample(train_pneumonia, k=len(train_normal))\n",
        "\n",
        "    for file in os.listdir(train_pneumonia_dir):\n",
        "        if file not in train_pneumonia:\n",
        "            os.remove(train_pneumonia_dir+file)\n",
        "            \n",
        "    train_pneumonia = os.listdir(train_pneumonia_dir)\n",
        "\n",
        "    print(f\"Normal: {len(train_normal)}\")\n",
        "    print(f\"Pneumonia: {len(train_pneumonia)}\")\n",
        "    \n",
        "else:\n",
        "    print(\"Data is balanced!\")"
      ],
      "execution_count": 0,
      "outputs": [
        {
          "output_type": "stream",
          "text": [
            "Data is balanced!\n"
          ],
          "name": "stdout"
        }
      ]
    },
    {
      "cell_type": "code",
      "metadata": {
        "id": "duLpTlLp-BOK",
        "colab_type": "code",
        "outputId": "689a0495-c7f4-41d7-fd10-5a813d43590f",
        "colab": {
          "base_uri": "https://localhost:8080/",
          "height": 35
        }
      },
      "source": [
        "#calculate accuracy baseline of train set, output should always be 50%\n",
        "train_baseline = len(train_normal)/(len(train_normal)+len(train_pneumonia))\n",
        "print(f\"Baseline: {round(train_baseline*100, 2)}% accuracy\")"
      ],
      "execution_count": 0,
      "outputs": [
        {
          "output_type": "stream",
          "text": [
            "Baseline: 50.0% accuracy\n"
          ],
          "name": "stdout"
        }
      ]
    },
    {
      "cell_type": "code",
      "metadata": {
        "id": "Dlsxo7Os-BOP",
        "colab_type": "code",
        "outputId": "4454fdc8-07d7-45bc-8c53-3414298f0651",
        "colab": {
          "base_uri": "https://localhost:8080/",
          "height": 35
        }
      },
      "source": [
        "#calculate accuracy baseline of test set\n",
        "test_normal = os.listdir('/content/drive/My Drive/Colab Notebooks/chest_xray/test/NORMAL/')\n",
        "test_pneumonia = os.listdir('/content/drive/My Drive/Colab Notebooks/chest_xray/test/PNEUMONIA/')\n",
        "\n",
        "test_normal_cnt = 0\n",
        "test_pneumonia_cnt = 0\n",
        "\n",
        "for file in test_normal:\n",
        "    test_normal_cnt += 1\n",
        "for file in test_pneumonia:\n",
        "    test_pneumonia_cnt += 1\n",
        "\n",
        "if test_normal_cnt < test_pneumonia_cnt:\n",
        "    test_baseline = test_pneumonia_cnt/(test_normal_cnt+test_pneumonia_cnt)\n",
        "else:\n",
        "    test_baseline = test_normal_cnt/(test_normal_cnt+test_pneumonia_cnt)\n",
        "\n",
        "print(f\"Baseline: {round(test_baseline*100, 2)}% accuracy\")"
      ],
      "execution_count": 0,
      "outputs": [
        {
          "output_type": "stream",
          "text": [
            "Baseline: 62.5% accuracy\n"
          ],
          "name": "stdout"
        }
      ]
    },
    {
      "cell_type": "code",
      "metadata": {
        "id": "7Z3dX8XA-BOT",
        "colab_type": "code",
        "colab": {}
      },
      "source": [
        "#define parameters\n",
        "OPTIMIZER = Adam(lr=1e-4) #best lr according to lr_schedule\n",
        "DROPOUT = .2\n",
        "EPOCHS = 20\n",
        "BATCH_SIZE = 32\n",
        "STEPS_PER_EPOCH = 32\n",
        "lr_schedule = LearningRateScheduler(lambda epoch: 1e-7 * 10**(epoch / 10))"
      ],
      "execution_count": 0,
      "outputs": []
    },
    {
      "cell_type": "code",
      "metadata": {
        "id": "y-v6qgw8-BOX",
        "colab_type": "code",
        "outputId": "086cef61-40ae-4aaf-dd4a-9f57be4b822d",
        "colab": {
          "base_uri": "https://localhost:8080/",
          "height": 629
        }
      },
      "source": [
        "#design model\n",
        "model = Sequential([\n",
        "    #first convolutional layer with pooling and dropout\n",
        "    Conv2D(64, (3, 3), activation=\"relu\", input_shape=(150, 150, 3)),\n",
        "    Dropout(DROPOUT),\n",
        "    MaxPooling2D(2, 2),\n",
        "    #second convolutional layer with pooling and dropout\n",
        "    Conv2D(64, (3, 3), activation=\"relu\"),\n",
        "    Dropout(DROPOUT),\n",
        "    MaxPooling2D(2, 2),\n",
        "    #third convolutional layer with pooling and dropout\n",
        "    Conv2D(64, (3, 3), activation=\"relu\"),\n",
        "    Dropout(DROPOUT),\n",
        "    MaxPooling2D(2, 2),\n",
        "    #flatten\n",
        "    Flatten(),\n",
        "    #dense layer with dropout\n",
        "    Dense(1024, activation=\"relu\"),\n",
        "    Dropout(DROPOUT),\n",
        "    #output layer\n",
        "    Dense(1, activation=\"sigmoid\")\n",
        "])          \n",
        "\n",
        "#compile model\n",
        "model.compile(\n",
        "    optimizer=OPTIMIZER,\n",
        "    loss='binary_crossentropy',\n",
        "    metrics=['acc']\n",
        ")\n",
        "\n",
        "model.summary()"
      ],
      "execution_count": 0,
      "outputs": [
        {
          "output_type": "stream",
          "text": [
            "Model: \"sequential_7\"\n",
            "_________________________________________________________________\n",
            "Layer (type)                 Output Shape              Param #   \n",
            "=================================================================\n",
            "conv2d_23 (Conv2D)           (None, 148, 148, 64)      1792      \n",
            "_________________________________________________________________\n",
            "dropout_27 (Dropout)         (None, 148, 148, 64)      0         \n",
            "_________________________________________________________________\n",
            "max_pooling2d_23 (MaxPooling (None, 74, 74, 64)        0         \n",
            "_________________________________________________________________\n",
            "conv2d_24 (Conv2D)           (None, 72, 72, 64)        36928     \n",
            "_________________________________________________________________\n",
            "dropout_28 (Dropout)         (None, 72, 72, 64)        0         \n",
            "_________________________________________________________________\n",
            "max_pooling2d_24 (MaxPooling (None, 36, 36, 64)        0         \n",
            "_________________________________________________________________\n",
            "conv2d_25 (Conv2D)           (None, 34, 34, 64)        36928     \n",
            "_________________________________________________________________\n",
            "dropout_29 (Dropout)         (None, 34, 34, 64)        0         \n",
            "_________________________________________________________________\n",
            "max_pooling2d_25 (MaxPooling (None, 17, 17, 64)        0         \n",
            "_________________________________________________________________\n",
            "flatten_7 (Flatten)          (None, 18496)             0         \n",
            "_________________________________________________________________\n",
            "dense_14 (Dense)             (None, 1024)              18940928  \n",
            "_________________________________________________________________\n",
            "dropout_30 (Dropout)         (None, 1024)              0         \n",
            "_________________________________________________________________\n",
            "dense_15 (Dense)             (None, 1)                 1025      \n",
            "=================================================================\n",
            "Total params: 19,017,601\n",
            "Trainable params: 19,017,601\n",
            "Non-trainable params: 0\n",
            "_________________________________________________________________\n"
          ],
          "name": "stdout"
        }
      ]
    },
    {
      "cell_type": "code",
      "metadata": {
        "id": "k_L5BjMN-BOe",
        "colab_type": "code",
        "outputId": "abe53cde-6654-4d46-e759-cbcf8f25fccb",
        "colab": {
          "base_uri": "https://localhost:8080/",
          "height": 35
        }
      },
      "source": [
        "train_dir = '/content/drive/My Drive/Colab Notebooks/chest_xray/train/'\n",
        "\n",
        "train_datagen = ImageDataGenerator(\n",
        "    rescale=1/255,\n",
        "    width_shift_range=.1,\n",
        "    height_shift_range=.1,\n",
        "    zoom_range=.1,\n",
        "    rotation_range=10,\n",
        "    brightness_range=[.9, 1.1]\n",
        ")\n",
        "\n",
        "train_generator = train_datagen.flow_from_directory(\n",
        "        train_dir,\n",
        "        target_size=(150, 150),\n",
        "        class_mode='binary',\n",
        "        batch_size=BATCH_SIZE\n",
        ")"
      ],
      "execution_count": 0,
      "outputs": [
        {
          "output_type": "stream",
          "text": [
            "Found 5366 images belonging to 2 classes.\n"
          ],
          "name": "stdout"
        }
      ]
    },
    {
      "cell_type": "code",
      "metadata": {
        "id": "r_PIOSjV-BOi",
        "colab_type": "code",
        "outputId": "012d8fec-56c9-48b4-a7ab-aa6bad5540ef",
        "colab": {
          "base_uri": "https://localhost:8080/",
          "height": 35
        }
      },
      "source": [
        "test_dir = '/content/drive/My Drive/Colab Notebooks/chest_xray/test/'\n",
        "\n",
        "test_datagen = ImageDataGenerator(rescale=1/255)\n",
        "\n",
        "test_generator = test_datagen.flow_from_directory(\n",
        "        test_dir,\n",
        "        target_size=(150, 150),\n",
        "        class_mode='binary', \n",
        "        batch_size=BATCH_SIZE\n",
        ")"
      ],
      "execution_count": 0,
      "outputs": [
        {
          "output_type": "stream",
          "text": [
            "Found 624 images belonging to 2 classes.\n"
          ],
          "name": "stdout"
        }
      ]
    },
    {
      "cell_type": "code",
      "metadata": {
        "id": "TK75IN53-BOn",
        "colab_type": "code",
        "outputId": "956bc346-a75d-40b5-c88b-dcdc47fe7865",
        "colab": {
          "base_uri": "https://localhost:8080/",
          "height": 737
        }
      },
      "source": [
        "#train model\n",
        "history = model.fit_generator(\n",
        "    train_generator,\n",
        "    epochs=EPOCHS,\n",
        "    steps_per_epoch=STEPS_PER_EPOCH,\n",
        "    verbose=1,\n",
        "    validation_data=test_generator,\n",
        "    #validation_split=.1, #validation set provided contained only 16 images\n",
        "    #callbacks=[lr_schedule]\n",
        ")"
      ],
      "execution_count": 0,
      "outputs": [
        {
          "output_type": "stream",
          "text": [
            "Epoch 1/20\n",
            "32/32 [==============================] - 160s 5s/step - loss: 0.6938 - acc: 0.6201 - val_loss: 0.5727 - val_acc: 0.7885\n",
            "Epoch 2/20\n",
            "32/32 [==============================] - 154s 5s/step - loss: 0.4140 - acc: 0.8311 - val_loss: 0.4484 - val_acc: 0.7949\n",
            "Epoch 3/20\n",
            "32/32 [==============================] - 154s 5s/step - loss: 0.2970 - acc: 0.8809 - val_loss: 0.3449 - val_acc: 0.8558\n",
            "Epoch 4/20\n",
            "32/32 [==============================] - 152s 5s/step - loss: 0.3043 - acc: 0.8799 - val_loss: 0.3406 - val_acc: 0.8654\n",
            "Epoch 5/20\n",
            "32/32 [==============================] - 149s 5s/step - loss: 0.2752 - acc: 0.8925 - val_loss: 0.3693 - val_acc: 0.8285\n",
            "Epoch 6/20\n",
            "32/32 [==============================] - 158s 5s/step - loss: 0.2673 - acc: 0.8887 - val_loss: 0.3345 - val_acc: 0.8574\n",
            "Epoch 7/20\n",
            "32/32 [==============================] - 153s 5s/step - loss: 0.2715 - acc: 0.8887 - val_loss: 0.3304 - val_acc: 0.8574\n",
            "Epoch 8/20\n",
            "32/32 [==============================] - 155s 5s/step - loss: 0.2172 - acc: 0.9141 - val_loss: 0.3132 - val_acc: 0.8686\n",
            "Epoch 9/20\n",
            "32/32 [==============================] - 156s 5s/step - loss: 0.2646 - acc: 0.8906 - val_loss: 0.3190 - val_acc: 0.8830\n",
            "Epoch 10/20\n",
            "32/32 [==============================] - 154s 5s/step - loss: 0.2043 - acc: 0.9280 - val_loss: 0.3310 - val_acc: 0.8542\n",
            "Epoch 11/20\n",
            "32/32 [==============================] - 159s 5s/step - loss: 0.1983 - acc: 0.9316 - val_loss: 0.3173 - val_acc: 0.8766\n",
            "Epoch 12/20\n",
            "32/32 [==============================] - 158s 5s/step - loss: 0.2300 - acc: 0.9121 - val_loss: 0.3145 - val_acc: 0.8878\n",
            "Epoch 13/20\n",
            "32/32 [==============================] - 157s 5s/step - loss: 0.1999 - acc: 0.9277 - val_loss: 0.2906 - val_acc: 0.8926\n",
            "Epoch 14/20\n",
            "32/32 [==============================] - 157s 5s/step - loss: 0.2153 - acc: 0.9199 - val_loss: 0.3060 - val_acc: 0.8830\n",
            "Epoch 15/20\n",
            "32/32 [==============================] - 156s 5s/step - loss: 0.2197 - acc: 0.9092 - val_loss: 0.2894 - val_acc: 0.8926\n",
            "Epoch 16/20\n",
            "32/32 [==============================] - 153s 5s/step - loss: 0.1855 - acc: 0.9310 - val_loss: 0.2996 - val_acc: 0.8830\n",
            "Epoch 17/20\n",
            "32/32 [==============================] - 154s 5s/step - loss: 0.1989 - acc: 0.9300 - val_loss: 0.3128 - val_acc: 0.8814\n",
            "Epoch 18/20\n",
            "32/32 [==============================] - 155s 5s/step - loss: 0.1721 - acc: 0.9385 - val_loss: 0.2993 - val_acc: 0.8878\n",
            "Epoch 19/20\n",
            "32/32 [==============================] - 155s 5s/step - loss: 0.1640 - acc: 0.9414 - val_loss: 0.3095 - val_acc: 0.8782\n",
            "Epoch 20/20\n",
            "32/32 [==============================] - 155s 5s/step - loss: 0.1803 - acc: 0.9238 - val_loss: 0.3068 - val_acc: 0.8814\n"
          ],
          "name": "stdout"
        }
      ]
    },
    {
      "cell_type": "code",
      "metadata": {
        "id": "SaeJLcB2-BOr",
        "colab_type": "code",
        "outputId": "e6ea1b33-80dc-4e5d-d911-f00b310d1723",
        "colab": {}
      },
      "source": [
        "#visualize training loss for lr_schedule\n",
        "#plt.semilogx(history.history[\"lr\"], history.history[\"loss\"])\n",
        "#plt.axis([1e-7, 1e-2, 0, 1])"
      ],
      "execution_count": 0,
      "outputs": [
        {
          "output_type": "execute_result",
          "data": {
            "text/plain": [
              "[1e-07, 0.01, 0, 1]"
            ]
          },
          "metadata": {
            "tags": []
          },
          "execution_count": 12
        },
        {
          "output_type": "display_data",
          "data": {
            "image/png": "[encoded data removed]",
            "text/plain": [
              "<Figure size 432x288 with 1 Axes>"
            ]
          },
          "metadata": {
            "tags": [],
            "needs_background": "light"
          }
        }
      ]
    },
    {
      "cell_type": "code",
      "metadata": {
        "id": "vFhtT8ik-BOy",
        "colab_type": "code",
        "outputId": "3c8cba49-b297-43a9-a0e6-ac2ee3933b60",
        "colab": {
          "base_uri": "https://localhost:8080/",
          "height": 299
        }
      },
      "source": [
        "#visualize train / test accuracy scores\n",
        "train_acc = history.history['acc']\n",
        "test_acc = history.history['val_acc']\n",
        "n = len(train_acc)\n",
        "epochs = range(n)\n",
        "\n",
        "plt.plot(epochs, train_acc, 'b', label='train')\n",
        "plt.plot(epochs, test_acc, 'r', label='test')\n",
        "plt.title('ACCURACY')\n",
        "plt.legend(loc=0)\n",
        "plt.figure()\n",
        "\n",
        "plt.show()"
      ],
      "execution_count": 0,
      "outputs": [
        {
          "output_type": "display_data",
          "data": {
            "image/png": "[encoded data removed]",
            "text/plain": [
              "<Figure size 432x288 with 1 Axes>"
            ]
          },
          "metadata": {
            "tags": []
          }
        },
        {
          "output_type": "display_data",
          "data": {
            "text/plain": [
              "<Figure size 432x288 with 0 Axes>"
            ]
          },
          "metadata": {
            "tags": []
          }
        }
      ]
    },
    {
      "cell_type": "code",
      "metadata": {
        "id": "mts-lkCE-BO8",
        "colab_type": "code",
        "outputId": "9d9ce99e-c677-46d8-f354-1ad8a7347a0d",
        "colab": {
          "base_uri": "https://localhost:8080/",
          "height": 299
        }
      },
      "source": [
        "#visualize train / test loss\n",
        "train_loss = history.history['loss']\n",
        "test_loss = history.history['val_loss']\n",
        "epochs = range(len(train_loss))\n",
        "\n",
        "plt.plot(epochs, train_loss, 'b', label='train')\n",
        "plt.plot(epochs, test_loss, 'r', label='test')\n",
        "plt.title('LOSS')\n",
        "plt.legend(loc=0)\n",
        "plt.figure()\n",
        "\n",
        "plt.show()"
      ],
      "execution_count": 0,
      "outputs": [
        {
          "output_type": "display_data",
          "data": {
            "image/png": "[encoded data removed]",
            "text/plain": [
              "<Figure size 432x288 with 1 Axes>"
            ]
          },
          "metadata": {
            "tags": []
          }
        },
        {
          "output_type": "display_data",
          "data": {
            "text/plain": [
              "<Figure size 432x288 with 0 Axes>"
            ]
          },
          "metadata": {
            "tags": []
          }
        }
      ]
    },
    {
      "cell_type": "markdown",
      "metadata": {
        "id": "MNiy32Nc-BPN",
        "colab_type": "raw"
      },
      "source": [
        ""
      ]
    }
  ]
}