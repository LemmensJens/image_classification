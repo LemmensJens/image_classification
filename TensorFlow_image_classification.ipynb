{
 "cells": [
  {
   "cell_type": "markdown",
   "metadata": {},
   "source": [
    "The following code was used to create a sequential model with tensorflow that can accurately classify images of numbers between 0 and 9"
   ]
  },
  {
   "cell_type": "code",
   "execution_count": 1,
   "metadata": {},
   "outputs": [],
   "source": [
    "import tensorflow as tf\n",
    "from sklearn import datasets"
   ]
  },
  {
   "cell_type": "code",
   "execution_count": 2,
   "metadata": {},
   "outputs": [],
   "source": [
    "digits = datasets.load_digits()"
   ]
  },
  {
   "cell_type": "code",
   "execution_count": 3,
   "metadata": {},
   "outputs": [
    {
     "data": {
      "text/plain": [
       "dict_keys(['data', 'target', 'target_names', 'images', 'DESCR'])"
      ]
     },
     "execution_count": 3,
     "metadata": {},
     "output_type": "execute_result"
    }
   ],
   "source": [
    "digits.keys()"
   ]
  },
  {
   "cell_type": "code",
   "execution_count": 4,
   "metadata": {},
   "outputs": [
    {
     "data": {
      "text/plain": [
       "(1797,)"
      ]
     },
     "execution_count": 4,
     "metadata": {},
     "output_type": "execute_result"
    }
   ],
   "source": [
    "digits.target.shape"
   ]
  },
  {
   "cell_type": "code",
   "execution_count": 5,
   "metadata": {},
   "outputs": [
    {
     "data": {
      "text/plain": [
       "(1797, 8, 8)"
      ]
     },
     "execution_count": 5,
     "metadata": {},
     "output_type": "execute_result"
    }
   ],
   "source": [
    "digits.images.shape"
   ]
  },
  {
   "cell_type": "code",
   "execution_count": 6,
   "metadata": {},
   "outputs": [],
   "source": [
    "x_train, x_test = digits.images[:1400], digits.images[1400:]\n",
    "y_train, y_test = digits.target[:1400], digits.target[1400:]"
   ]
  },
  {
   "cell_type": "code",
   "execution_count": 8,
   "metadata": {},
   "outputs": [
    {
     "name": "stdout",
     "output_type": "stream",
     "text": [
      "WARNING:tensorflow:From C:\\Users\\JensL\\Anaconda3\\lib\\site-packages\\tensorflow\\python\\ops\\init_ops.py:1251: calling VarianceScaling.__init__ (from tensorflow.python.ops.init_ops) with dtype is deprecated and will be removed in a future version.\n",
      "Instructions for updating:\n",
      "Call initializer instance with the dtype argument instead of passing it to the constructor\n"
     ]
    }
   ],
   "source": [
    "model = tf.keras.models.Sequential([\n",
    "    tf.keras.layers.Flatten(input_shape=(8, 8)),\n",
    "    tf.keras.layers.Dense(100, activation=\"relu\"),\n",
    "    tf.keras.layers.Dropout(.25),\n",
    "    tf.keras.layers.Dense(10, activation='softmax')\n",
    "])"
   ]
  },
  {
   "cell_type": "code",
   "execution_count": 11,
   "metadata": {},
   "outputs": [],
   "source": [
    "model.compile(optimizer='adam', loss='sparse_categorical_crossentropy', metrics=['accuracy'])"
   ]
  },
  {
   "cell_type": "code",
   "execution_count": 12,
   "metadata": {
    "scrolled": true
   },
   "outputs": [
    {
     "name": "stdout",
     "output_type": "stream",
     "text": [
      "Epoch 1/100\n",
      "1400/1400 [==============================] - 0s 209us/sample - loss: 4.2567 - acc: 0.2821\n",
      "Epoch 2/100\n",
      "1400/1400 [==============================] - 0s 47us/sample - loss: 1.1672 - acc: 0.6679\n",
      "Epoch 3/100\n",
      "1400/1400 [==============================] - 0s 47us/sample - loss: 0.6449 - acc: 0.8036\n",
      "Epoch 4/100\n",
      "1400/1400 [==============================] - 0s 49us/sample - loss: 0.4524 - acc: 0.8479\n",
      "Epoch 5/100\n",
      "1400/1400 [==============================] - 0s 46us/sample - loss: 0.3764 - acc: 0.8771\n",
      "Epoch 6/100\n",
      "1400/1400 [==============================] - 0s 47us/sample - loss: 0.2901 - acc: 0.9057\n",
      "Epoch 7/100\n",
      "1400/1400 [==============================] - 0s 48us/sample - loss: 0.2437 - acc: 0.9229\n",
      "Epoch 8/100\n",
      "1400/1400 [==============================] - 0s 49us/sample - loss: 0.2075 - acc: 0.9343\n",
      "Epoch 9/100\n",
      "1400/1400 [==============================] - 0s 51us/sample - loss: 0.1852 - acc: 0.9429\n",
      "Epoch 10/100\n",
      "1400/1400 [==============================] - 0s 48us/sample - loss: 0.1623 - acc: 0.9471\n",
      "Epoch 11/100\n",
      "1400/1400 [==============================] - 0s 57us/sample - loss: 0.1546 - acc: 0.9536\n",
      "Epoch 12/100\n",
      "1400/1400 [==============================] - 0s 53us/sample - loss: 0.1314 - acc: 0.9586\n",
      "Epoch 13/100\n",
      "1400/1400 [==============================] - 0s 49us/sample - loss: 0.1235 - acc: 0.9621\n",
      "Epoch 14/100\n",
      "1400/1400 [==============================] - 0s 45us/sample - loss: 0.1183 - acc: 0.9643\n",
      "Epoch 15/100\n",
      "1400/1400 [==============================] - 0s 48us/sample - loss: 0.0980 - acc: 0.9664\n",
      "Epoch 16/100\n",
      "1400/1400 [==============================] - 0s 49us/sample - loss: 0.0921 - acc: 0.9671\n",
      "Epoch 17/100\n",
      "1400/1400 [==============================] - 0s 51us/sample - loss: 0.0804 - acc: 0.9736\n",
      "Epoch 18/100\n",
      "1400/1400 [==============================] - 0s 51us/sample - loss: 0.0832 - acc: 0.9729\n",
      "Epoch 19/100\n",
      "1400/1400 [==============================] - 0s 47us/sample - loss: 0.0785 - acc: 0.9736\n",
      "Epoch 20/100\n",
      "1400/1400 [==============================] - 0s 50us/sample - loss: 0.0624 - acc: 0.9786\n",
      "Epoch 21/100\n",
      "1400/1400 [==============================] - 0s 50us/sample - loss: 0.0675 - acc: 0.9779\n",
      "Epoch 22/100\n",
      "1400/1400 [==============================] - 0s 52us/sample - loss: 0.0671 - acc: 0.9800\n",
      "Epoch 23/100\n",
      "1400/1400 [==============================] - 0s 46us/sample - loss: 0.0524 - acc: 0.9864\n",
      "Epoch 24/100\n",
      "1400/1400 [==============================] - 0s 60us/sample - loss: 0.0582 - acc: 0.9814\n",
      "Epoch 25/100\n",
      "1400/1400 [==============================] - 0s 48us/sample - loss: 0.0442 - acc: 0.9857\n",
      "Epoch 26/100\n",
      "1400/1400 [==============================] - 0s 48us/sample - loss: 0.0488 - acc: 0.9829\n",
      "Epoch 27/100\n",
      "1400/1400 [==============================] - 0s 50us/sample - loss: 0.0450 - acc: 0.9850\n",
      "Epoch 28/100\n",
      "1400/1400 [==============================] - 0s 47us/sample - loss: 0.0411 - acc: 0.9879\n",
      "Epoch 29/100\n",
      "1400/1400 [==============================] - 0s 46us/sample - loss: 0.0422 - acc: 0.9893\n",
      "Epoch 30/100\n",
      "1400/1400 [==============================] - 0s 49us/sample - loss: 0.0515 - acc: 0.9829\n",
      "Epoch 31/100\n",
      "1400/1400 [==============================] - 0s 52us/sample - loss: 0.0350 - acc: 0.9893\n",
      "Epoch 32/100\n",
      "1400/1400 [==============================] - 0s 51us/sample - loss: 0.0433 - acc: 0.9871\n",
      "Epoch 33/100\n",
      "1400/1400 [==============================] - 0s 52us/sample - loss: 0.0380 - acc: 0.9850\n",
      "Epoch 34/100\n",
      "1400/1400 [==============================] - 0s 53us/sample - loss: 0.0341 - acc: 0.9893\n",
      "Epoch 35/100\n",
      "1400/1400 [==============================] - 0s 50us/sample - loss: 0.0259 - acc: 0.9950\n",
      "Epoch 36/100\n",
      "1400/1400 [==============================] - 0s 58us/sample - loss: 0.0303 - acc: 0.9929\n",
      "Epoch 37/100\n",
      "1400/1400 [==============================] - 0s 49us/sample - loss: 0.0276 - acc: 0.9929\n",
      "Epoch 38/100\n",
      "1400/1400 [==============================] - 0s 51us/sample - loss: 0.0173 - acc: 0.9971\n",
      "Epoch 39/100\n",
      "1400/1400 [==============================] - 0s 52us/sample - loss: 0.0304 - acc: 0.99360s - loss: 0.0296 - acc: 0.993\n",
      "Epoch 40/100\n",
      "1400/1400 [==============================] - 0s 48us/sample - loss: 0.0298 - acc: 0.9907\n",
      "Epoch 41/100\n",
      "1400/1400 [==============================] - 0s 47us/sample - loss: 0.0160 - acc: 0.9971\n",
      "Epoch 42/100\n",
      "1400/1400 [==============================] - 0s 51us/sample - loss: 0.0190 - acc: 0.9957\n",
      "Epoch 43/100\n",
      "1400/1400 [==============================] - 0s 48us/sample - loss: 0.0211 - acc: 0.9929\n",
      "Epoch 44/100\n",
      "1400/1400 [==============================] - 0s 49us/sample - loss: 0.0219 - acc: 0.9929\n",
      "Epoch 45/100\n",
      "1400/1400 [==============================] - 0s 47us/sample - loss: 0.0267 - acc: 0.9921\n",
      "Epoch 46/100\n",
      "1400/1400 [==============================] - 0s 51us/sample - loss: 0.0209 - acc: 0.99360s - loss: 0.0215 - acc: 0.993\n",
      "Epoch 47/100\n",
      "1400/1400 [==============================] - 0s 49us/sample - loss: 0.0180 - acc: 0.9971\n",
      "Epoch 48/100\n",
      "1400/1400 [==============================] - 0s 50us/sample - loss: 0.0173 - acc: 0.9957\n",
      "Epoch 49/100\n",
      "1400/1400 [==============================] - 0s 51us/sample - loss: 0.0140 - acc: 0.9950\n",
      "Epoch 50/100\n",
      "1400/1400 [==============================] - 0s 49us/sample - loss: 0.0201 - acc: 0.9957\n",
      "Epoch 51/100\n",
      "1400/1400 [==============================] - 0s 51us/sample - loss: 0.0269 - acc: 0.9900\n",
      "Epoch 52/100\n",
      "1400/1400 [==============================] - 0s 52us/sample - loss: 0.0192 - acc: 0.9957\n",
      "Epoch 53/100\n",
      "1400/1400 [==============================] - 0s 52us/sample - loss: 0.0166 - acc: 0.9950\n",
      "Epoch 54/100\n",
      "1400/1400 [==============================] - 0s 49us/sample - loss: 0.0196 - acc: 0.9936\n",
      "Epoch 55/100\n",
      "1400/1400 [==============================] - 0s 49us/sample - loss: 0.0124 - acc: 0.9979\n",
      "Epoch 56/100\n",
      "1400/1400 [==============================] - 0s 47us/sample - loss: 0.0148 - acc: 0.9957\n",
      "Epoch 57/100\n",
      "1400/1400 [==============================] - 0s 53us/sample - loss: 0.0168 - acc: 0.9971\n",
      "Epoch 58/100\n",
      "1400/1400 [==============================] - 0s 59us/sample - loss: 0.0123 - acc: 0.9964\n",
      "Epoch 59/100\n",
      "1400/1400 [==============================] - 0s 57us/sample - loss: 0.0193 - acc: 0.9929\n",
      "Epoch 60/100\n",
      "1400/1400 [==============================] - 0s 54us/sample - loss: 0.0191 - acc: 0.9943\n",
      "Epoch 61/100\n",
      "1400/1400 [==============================] - 0s 52us/sample - loss: 0.0132 - acc: 0.9979\n",
      "Epoch 62/100\n",
      "1400/1400 [==============================] - 0s 60us/sample - loss: 0.0220 - acc: 0.9943\n",
      "Epoch 63/100\n",
      "1400/1400 [==============================] - 0s 54us/sample - loss: 0.0220 - acc: 0.9936\n",
      "Epoch 64/100\n",
      "1400/1400 [==============================] - 0s 56us/sample - loss: 0.0170 - acc: 0.9957\n",
      "Epoch 65/100\n",
      "1400/1400 [==============================] - 0s 56us/sample - loss: 0.0104 - acc: 0.9979\n",
      "Epoch 66/100\n",
      "1400/1400 [==============================] - 0s 53us/sample - loss: 0.0105 - acc: 0.9993\n",
      "Epoch 67/100\n",
      "1400/1400 [==============================] - 0s 60us/sample - loss: 0.0111 - acc: 0.9957\n",
      "Epoch 68/100\n",
      "1400/1400 [==============================] - 0s 58us/sample - loss: 0.0161 - acc: 0.9929\n",
      "Epoch 69/100\n",
      "1400/1400 [==============================] - 0s 53us/sample - loss: 0.0129 - acc: 0.9971\n",
      "Epoch 70/100\n",
      "1400/1400 [==============================] - 0s 53us/sample - loss: 0.0100 - acc: 0.9971\n",
      "Epoch 71/100\n",
      "1400/1400 [==============================] - 0s 47us/sample - loss: 0.0105 - acc: 0.9964\n",
      "Epoch 72/100\n",
      "1400/1400 [==============================] - 0s 57us/sample - loss: 0.0089 - acc: 0.9979\n",
      "Epoch 73/100\n",
      "1400/1400 [==============================] - 0s 44us/sample - loss: 0.0106 - acc: 0.9971\n",
      "Epoch 74/100\n",
      "1400/1400 [==============================] - 0s 55us/sample - loss: 0.0090 - acc: 0.9979\n",
      "Epoch 75/100\n",
      "1400/1400 [==============================] - 0s 53us/sample - loss: 0.0068 - acc: 0.9993\n",
      "Epoch 76/100\n",
      "1400/1400 [==============================] - 0s 55us/sample - loss: 0.0077 - acc: 0.9993\n",
      "Epoch 77/100\n",
      "1400/1400 [==============================] - 0s 47us/sample - loss: 0.0101 - acc: 0.9979\n",
      "Epoch 78/100\n",
      "1400/1400 [==============================] - 0s 57us/sample - loss: 0.0071 - acc: 0.9986\n",
      "Epoch 79/100\n",
      "1400/1400 [==============================] - 0s 52us/sample - loss: 0.0200 - acc: 0.9921\n",
      "Epoch 80/100\n",
      "1400/1400 [==============================] - 0s 54us/sample - loss: 0.0175 - acc: 0.9943\n",
      "Epoch 81/100\n",
      "1400/1400 [==============================] - 0s 47us/sample - loss: 0.0123 - acc: 0.9971\n",
      "Epoch 82/100\n",
      "1400/1400 [==============================] - 0s 46us/sample - loss: 0.0090 - acc: 0.9979\n",
      "Epoch 83/100\n",
      "1400/1400 [==============================] - 0s 46us/sample - loss: 0.0096 - acc: 0.9979\n",
      "Epoch 84/100\n",
      "1400/1400 [==============================] - 0s 45us/sample - loss: 0.0164 - acc: 0.9971\n",
      "Epoch 85/100\n",
      "1400/1400 [==============================] - 0s 46us/sample - loss: 0.0050 - acc: 0.9993\n",
      "Epoch 86/100\n",
      "1400/1400 [==============================] - 0s 49us/sample - loss: 0.0050 - acc: 0.9993\n",
      "Epoch 87/100\n",
      "1400/1400 [==============================] - 0s 51us/sample - loss: 0.0080 - acc: 0.9986\n",
      "Epoch 88/100\n",
      "1400/1400 [==============================] - 0s 54us/sample - loss: 0.0081 - acc: 0.9986\n",
      "Epoch 89/100\n",
      "1400/1400 [==============================] - 0s 51us/sample - loss: 0.0093 - acc: 0.9964\n",
      "Epoch 90/100\n",
      "1400/1400 [==============================] - 0s 50us/sample - loss: 0.0055 - acc: 0.9993\n",
      "Epoch 91/100\n",
      "1400/1400 [==============================] - 0s 53us/sample - loss: 0.0054 - acc: 0.9986\n",
      "Epoch 92/100\n",
      "1400/1400 [==============================] - 0s 52us/sample - loss: 0.0078 - acc: 0.9979\n",
      "Epoch 93/100\n",
      "1400/1400 [==============================] - 0s 53us/sample - loss: 0.0097 - acc: 0.9971\n",
      "Epoch 94/100\n",
      "1400/1400 [==============================] - 0s 49us/sample - loss: 0.0114 - acc: 0.9971\n",
      "Epoch 95/100\n",
      "1400/1400 [==============================] - 0s 53us/sample - loss: 0.0179 - acc: 0.9921\n",
      "Epoch 96/100\n",
      "1400/1400 [==============================] - 0s 49us/sample - loss: 0.0153 - acc: 0.9957\n",
      "Epoch 97/100\n",
      "1400/1400 [==============================] - 0s 54us/sample - loss: 0.0049 - acc: 0.9993\n",
      "Epoch 98/100\n",
      "1400/1400 [==============================] - 0s 52us/sample - loss: 0.0090 - acc: 0.9986\n",
      "Epoch 99/100\n",
      "1400/1400 [==============================] - 0s 51us/sample - loss: 0.0044 - acc: 0.9993\n",
      "Epoch 100/100\n",
      "1400/1400 [==============================] - 0s 49us/sample - loss: 0.0071 - acc: 0.9971\n"
     ]
    },
    {
     "data": {
      "text/plain": [
       "<tensorflow.python.keras.callbacks.History at 0x1e5442cbb00>"
      ]
     },
     "execution_count": 12,
     "metadata": {},
     "output_type": "execute_result"
    }
   ],
   "source": [
    "model.fit(x_train, y_train, epochs = 100)"
   ]
  },
  {
   "cell_type": "code",
   "execution_count": 13,
   "metadata": {},
   "outputs": [
    {
     "name": "stdout",
     "output_type": "stream",
     "text": [
      "397/397 [==============================] - 0s 153us/sample - loss: 0.2566 - acc: 0.9295\n"
     ]
    },
    {
     "data": {
      "text/plain": [
       "[0.25664746781965947, 0.929471]"
      ]
     },
     "execution_count": 13,
     "metadata": {},
     "output_type": "execute_result"
    }
   ],
   "source": [
    "model.evaluate(x_test, y_test)"
   ]
  },
  {
   "cell_type": "code",
   "execution_count": null,
   "metadata": {},
   "outputs": [],
   "source": []
  }
 ],
 "metadata": {
  "kernelspec": {
   "display_name": "Python 3",
   "language": "python",
   "name": "python3"
  },
  "language_info": {
   "codemirror_mode": {
    "name": "ipython",
    "version": 3
   },
   "file_extension": ".py",
   "mimetype": "text/x-python",
   "name": "python",
   "nbconvert_exporter": "python",
   "pygments_lexer": "ipython3",
   "version": "3.7.3"
  }
 },
 "nbformat": 4,
 "nbformat_minor": 2
}
